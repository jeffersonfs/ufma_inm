{
 "cells": [
  {
   "cell_type": "code",
   "execution_count": 1,
   "id": "12b4817d-8f08-4320-922e-cc3d16eaac01",
   "metadata": {},
   "outputs": [
    {
     "name": "stdout",
     "output_type": "stream",
     "text": [
      "Populating the interactive namespace from numpy and matplotlib\n"
     ]
    }
   ],
   "source": [
    "import pandas as pd\n",
    "import datetime\n",
    "from pathlib import Path\n",
    "from pandas.api.types import is_numeric_dtype\n",
    "\n",
    "import os\n",
    "%pylab inline"
   ]
  },
  {
   "cell_type": "code",
   "execution_count": 2,
   "id": "60e05d0c-2e43-4f67-af6e-05be925ca82f",
   "metadata": {},
   "outputs": [],
   "source": [
    "class CONFIG():\n",
    "    path_csv = Path('2021')\n",
    "    random_state =42\n",
    "    \n",
    "cfg = CONFIG()"
   ]
  },
  {
   "cell_type": "code",
   "execution_count": 3,
   "id": "f9a0ac9c-0ec8-4268-bea3-b63a34adee71",
   "metadata": {},
   "outputs": [],
   "source": [
    "def read_df_info(path_csv):\n",
    "\n",
    "    head_info = {}\n",
    "    count = 0 \n",
    "    with open(path_csv, 'r',  encoding = 'unicode_escape') as f:\n",
    "        for line in f.readlines():\n",
    "            if count == 8:\n",
    "                break\n",
    "\n",
    "            k, v = line.split(';')\n",
    "            head_info[k] = v[:-1]\n",
    "            count += 1\n",
    "\n",
    "    df_info = pd.DataFrame([head_info])\n",
    "    return df_info\n",
    "\n",
    "def read_df_data(path_csv):\n",
    "    df = pd.read_csv(path_csv, sep=';', encoding = 'unicode_escape', engine ='python', skiprows=8)\n",
    "    return df"
   ]
  },
  {
   "cell_type": "code",
   "execution_count": 4,
   "id": "f0625bb9-2e46-4a12-b768-3a689c71823b",
   "metadata": {},
   "outputs": [],
   "source": [
    "def load_df(cfg, samples=1):\n",
    "    paths = []\n",
    "    if os.path.isfile(cfg.path_csv):\n",
    "        paths = [str(cfg.path)]\n",
    "    else:\n",
    "        paths = [str(f) for f in cfg.path_csv.glob('**/*.CSV') ]\n",
    "        \n",
    "    paths = pd.DataFrame(paths).sample(samples, random_state=42)\n",
    "    dfs = []\n",
    "    \n",
    "\n",
    "# Concatenate all data into one DataFrame\n",
    "\n",
    "    for path in paths.loc[:,0]:\n",
    "        df_info = read_df_info(path)\n",
    "        df_data = read_df_data(path)\n",
    "        for column in df_info.columns:\n",
    "            df_data.loc[:,column] = pd.Series([df_info[column].loc[0] for _ in range(len(df_data))])\n",
    "        dfs.append(df_data)\n",
    "    \n",
    "    df_data = pd.concat(dfs, ignore_index=True)\n",
    "    df_data = df_data.drop('Unnamed: 19', axis = 1)\n",
    "    \n",
    "    # Correção de tipos numericos\n",
    "    for c_str in  df_data.columns[2:19].tolist() + df_data.columns[23:26].tolist():\n",
    "        c = df_data[c_str]\n",
    "        if is_numeric_dtype(c):# c.dtype in ['int16', 'int32', 'int64', 'float16', 'float32', 'float64']  :\n",
    "            df_data.loc[:, [c_str]] = df_data[c_str].apply(np.float32)\n",
    "        else:\n",
    "            df_data.loc[:, [c_str]] = df_data[c_str].str.replace(',', '.')\n",
    "            df_data.loc[:, [c_str]] = df_data[c_str].apply(lambda a: np.float32(pd.to_numeric(a)))\n",
    "    \n",
    "    # Correção de datas\n",
    "    df_data.loc[:,'Data Hora'] = pd.to_datetime(df_data.Data.astype(str)+' '+ df_data['Hora UTC'].astype(str))\n",
    "    df_data.loc[:,'DATA DE FUNDACAO:'] = pd.to_datetime(df_data['DATA DE FUNDACAO:'])\n",
    "    df_data.loc[:,'Data'] = pd.to_datetime(df_data['Data'])\n",
    "    df_data['timestamp'] = pd.to_datetime(df_data.Data.astype(str)+' '+ df_data['Hora UTC'].astype(str)).apply(lambda d: int(d.timestamp()))\n",
    "    df_data.set_index('Data Hora',inplace=True)\n",
    "    \n",
    "    return df_data\n",
    "    \n"
   ]
  },
  {
   "cell_type": "code",
   "execution_count": 5,
   "id": "58b5c9e9-fc05-4870-9cbb-257ca8928cd4",
   "metadata": {},
   "outputs": [
    {
     "name": "stdout",
     "output_type": "stream",
     "text": [
      "<class 'pandas.core.frame.DataFrame'>\n",
      "DatetimeIndex: 11664 entries, 2021-01-01 00:00:00+00:00 to 2021-08-31 23:00:00+00:00\n",
      "Data columns (total 28 columns):\n",
      " #   Column                                                 Non-Null Count  Dtype         \n",
      "---  ------                                                 --------------  -----         \n",
      " 0   Data                                                   11664 non-null  datetime64[ns]\n",
      " 1   Hora UTC                                               11664 non-null  object        \n",
      " 2   PRECIPITAÇÃO TOTAL, HORÁRIO (mm)                       6576 non-null   float32       \n",
      " 3   PRESSAO ATMOSFERICA AO NIVEL DA ESTACAO, HORARIA (mB)  7158 non-null   float32       \n",
      " 4   PRESSÃO ATMOSFERICA MAX.NA HORA ANT. (AUT) (mB)        7158 non-null   float32       \n",
      " 5   PRESSÃO ATMOSFERICA MIN. NA HORA ANT. (AUT) (mB)       7158 non-null   float32       \n",
      " 6   RADIACAO GLOBAL (Kj/m²)                                3756 non-null   float32       \n",
      " 7   TEMPERATURA DO AR - BULBO SECO, HORARIA (°C)           7159 non-null   float32       \n",
      " 8   TEMPERATURA DO PONTO DE ORVALHO (°C)                   7137 non-null   float32       \n",
      " 9   TEMPERATURA MÁXIMA NA HORA ANT. (AUT) (°C)             7159 non-null   float32       \n",
      " 10  TEMPERATURA MÍNIMA NA HORA ANT. (AUT) (°C)             7159 non-null   float32       \n",
      " 11  TEMPERATURA ORVALHO MAX. NA HORA ANT. (AUT) (°C)       7137 non-null   float32       \n",
      " 12  TEMPERATURA ORVALHO MIN. NA HORA ANT. (AUT) (°C)       7137 non-null   float32       \n",
      " 13  UMIDADE REL. MAX. NA HORA ANT. (AUT) (%)               7137 non-null   float32       \n",
      " 14  UMIDADE REL. MIN. NA HORA ANT. (AUT) (%)               7137 non-null   float32       \n",
      " 15  UMIDADE RELATIVA DO AR, HORARIA (%)                    7138 non-null   float32       \n",
      " 16  VENTO, DIREÇÃO HORARIA (gr) (° (gr))                   7158 non-null   float32       \n",
      " 17  VENTO, RAJADA MAXIMA (m/s)                             7158 non-null   float32       \n",
      " 18  VENTO, VELOCIDADE HORARIA (m/s)                        7158 non-null   float32       \n",
      " 19  REGIAO:                                                11664 non-null  object        \n",
      " 20  UF:                                                    11664 non-null  object        \n",
      " 21  ESTACAO:                                               11664 non-null  object        \n",
      " 22  CODIGO (WMO):                                          11664 non-null  object        \n",
      " 23  LATITUDE:                                              11664 non-null  float32       \n",
      " 24  LONGITUDE:                                             11664 non-null  float32       \n",
      " 25  ALTITUDE:                                              11664 non-null  float32       \n",
      " 26  DATA DE FUNDACAO:                                      11664 non-null  datetime64[ns]\n",
      " 27  timestamp                                              11664 non-null  int64         \n",
      "dtypes: datetime64[ns](2), float32(20), int64(1), object(5)\n",
      "memory usage: 1.7+ MB\n"
     ]
    }
   ],
   "source": [
    "df = load_df(cfg, samples=2)\n",
    "df.info()"
   ]
  },
  {
   "cell_type": "code",
   "execution_count": 6,
   "id": "325fd7bd-06b5-4900-88e9-effb52242e5e",
   "metadata": {},
   "outputs": [
    {
     "data": {
      "text/html": [
       "<div>\n",
       "<style scoped>\n",
       "    .dataframe tbody tr th:only-of-type {\n",
       "        vertical-align: middle;\n",
       "    }\n",
       "\n",
       "    .dataframe tbody tr th {\n",
       "        vertical-align: top;\n",
       "    }\n",
       "\n",
       "    .dataframe thead th {\n",
       "        text-align: right;\n",
       "    }\n",
       "</style>\n",
       "<table border=\"1\" class=\"dataframe\">\n",
       "  <thead>\n",
       "    <tr style=\"text-align: right;\">\n",
       "      <th></th>\n",
       "      <th>Data</th>\n",
       "      <th>Hora UTC</th>\n",
       "      <th>PRECIPITAÇÃO TOTAL, HORÁRIO (mm)</th>\n",
       "      <th>PRESSAO ATMOSFERICA AO NIVEL DA ESTACAO, HORARIA (mB)</th>\n",
       "      <th>PRESSÃO ATMOSFERICA MAX.NA HORA ANT. (AUT) (mB)</th>\n",
       "      <th>PRESSÃO ATMOSFERICA MIN. NA HORA ANT. (AUT) (mB)</th>\n",
       "      <th>RADIACAO GLOBAL (Kj/m²)</th>\n",
       "      <th>TEMPERATURA DO AR - BULBO SECO, HORARIA (°C)</th>\n",
       "      <th>TEMPERATURA DO PONTO DE ORVALHO (°C)</th>\n",
       "      <th>TEMPERATURA MÁXIMA NA HORA ANT. (AUT) (°C)</th>\n",
       "      <th>...</th>\n",
       "      <th>VENTO, VELOCIDADE HORARIA (m/s)</th>\n",
       "      <th>REGIAO:</th>\n",
       "      <th>UF:</th>\n",
       "      <th>ESTACAO:</th>\n",
       "      <th>CODIGO (WMO):</th>\n",
       "      <th>LATITUDE:</th>\n",
       "      <th>LONGITUDE:</th>\n",
       "      <th>ALTITUDE:</th>\n",
       "      <th>DATA DE FUNDACAO:</th>\n",
       "      <th>timestamp</th>\n",
       "    </tr>\n",
       "    <tr>\n",
       "      <th>Data Hora</th>\n",
       "      <th></th>\n",
       "      <th></th>\n",
       "      <th></th>\n",
       "      <th></th>\n",
       "      <th></th>\n",
       "      <th></th>\n",
       "      <th></th>\n",
       "      <th></th>\n",
       "      <th></th>\n",
       "      <th></th>\n",
       "      <th></th>\n",
       "      <th></th>\n",
       "      <th></th>\n",
       "      <th></th>\n",
       "      <th></th>\n",
       "      <th></th>\n",
       "      <th></th>\n",
       "      <th></th>\n",
       "      <th></th>\n",
       "      <th></th>\n",
       "      <th></th>\n",
       "    </tr>\n",
       "  </thead>\n",
       "  <tbody>\n",
       "    <tr>\n",
       "      <th>2021-01-01 00:00:00+00:00</th>\n",
       "      <td>2021-01-01</td>\n",
       "      <td>0000 UTC</td>\n",
       "      <td>0.0</td>\n",
       "      <td>975.400024</td>\n",
       "      <td>975.400024</td>\n",
       "      <td>974.599976</td>\n",
       "      <td>NaN</td>\n",
       "      <td>28.700001</td>\n",
       "      <td>17.400000</td>\n",
       "      <td>28.900000</td>\n",
       "      <td>...</td>\n",
       "      <td>2.9</td>\n",
       "      <td>NE</td>\n",
       "      <td>PI</td>\n",
       "      <td>CANTO DO BURITI</td>\n",
       "      <td>A365</td>\n",
       "      <td>-8.117939</td>\n",
       "      <td>-42.975719</td>\n",
       "      <td>312.070007</td>\n",
       "      <td>2010-12-06</td>\n",
       "      <td>1609459200</td>\n",
       "    </tr>\n",
       "    <tr>\n",
       "      <th>2021-01-01 01:00:00+00:00</th>\n",
       "      <td>2021-01-01</td>\n",
       "      <td>0100 UTC</td>\n",
       "      <td>0.0</td>\n",
       "      <td>975.599976</td>\n",
       "      <td>975.599976</td>\n",
       "      <td>975.299988</td>\n",
       "      <td>NaN</td>\n",
       "      <td>26.600000</td>\n",
       "      <td>17.799999</td>\n",
       "      <td>28.700001</td>\n",
       "      <td>...</td>\n",
       "      <td>3.1</td>\n",
       "      <td>NE</td>\n",
       "      <td>PI</td>\n",
       "      <td>CANTO DO BURITI</td>\n",
       "      <td>A365</td>\n",
       "      <td>-8.117939</td>\n",
       "      <td>-42.975719</td>\n",
       "      <td>312.070007</td>\n",
       "      <td>2010-12-06</td>\n",
       "      <td>1609462800</td>\n",
       "    </tr>\n",
       "    <tr>\n",
       "      <th>2021-01-01 02:00:00+00:00</th>\n",
       "      <td>2021-01-01</td>\n",
       "      <td>0200 UTC</td>\n",
       "      <td>0.0</td>\n",
       "      <td>975.700012</td>\n",
       "      <td>975.700012</td>\n",
       "      <td>975.500000</td>\n",
       "      <td>NaN</td>\n",
       "      <td>25.799999</td>\n",
       "      <td>17.600000</td>\n",
       "      <td>27.500000</td>\n",
       "      <td>...</td>\n",
       "      <td>1.9</td>\n",
       "      <td>NE</td>\n",
       "      <td>PI</td>\n",
       "      <td>CANTO DO BURITI</td>\n",
       "      <td>A365</td>\n",
       "      <td>-8.117939</td>\n",
       "      <td>-42.975719</td>\n",
       "      <td>312.070007</td>\n",
       "      <td>2010-12-06</td>\n",
       "      <td>1609466400</td>\n",
       "    </tr>\n",
       "    <tr>\n",
       "      <th>2021-01-01 03:00:00+00:00</th>\n",
       "      <td>2021-01-01</td>\n",
       "      <td>0300 UTC</td>\n",
       "      <td>0.0</td>\n",
       "      <td>975.099976</td>\n",
       "      <td>975.799988</td>\n",
       "      <td>975.099976</td>\n",
       "      <td>NaN</td>\n",
       "      <td>24.299999</td>\n",
       "      <td>18.299999</td>\n",
       "      <td>25.799999</td>\n",
       "      <td>...</td>\n",
       "      <td>1.0</td>\n",
       "      <td>NE</td>\n",
       "      <td>PI</td>\n",
       "      <td>CANTO DO BURITI</td>\n",
       "      <td>A365</td>\n",
       "      <td>-8.117939</td>\n",
       "      <td>-42.975719</td>\n",
       "      <td>312.070007</td>\n",
       "      <td>2010-12-06</td>\n",
       "      <td>1609470000</td>\n",
       "    </tr>\n",
       "    <tr>\n",
       "      <th>2021-01-01 04:00:00+00:00</th>\n",
       "      <td>2021-01-01</td>\n",
       "      <td>0400 UTC</td>\n",
       "      <td>0.0</td>\n",
       "      <td>975.000000</td>\n",
       "      <td>975.200012</td>\n",
       "      <td>974.900024</td>\n",
       "      <td>NaN</td>\n",
       "      <td>23.799999</td>\n",
       "      <td>18.100000</td>\n",
       "      <td>25.299999</td>\n",
       "      <td>...</td>\n",
       "      <td>1.3</td>\n",
       "      <td>NE</td>\n",
       "      <td>PI</td>\n",
       "      <td>CANTO DO BURITI</td>\n",
       "      <td>A365</td>\n",
       "      <td>-8.117939</td>\n",
       "      <td>-42.975719</td>\n",
       "      <td>312.070007</td>\n",
       "      <td>2010-12-06</td>\n",
       "      <td>1609473600</td>\n",
       "    </tr>\n",
       "  </tbody>\n",
       "</table>\n",
       "<p>5 rows × 28 columns</p>\n",
       "</div>"
      ],
      "text/plain": [
       "                                Data  Hora UTC  \\\n",
       "Data Hora                                        \n",
       "2021-01-01 00:00:00+00:00 2021-01-01  0000 UTC   \n",
       "2021-01-01 01:00:00+00:00 2021-01-01  0100 UTC   \n",
       "2021-01-01 02:00:00+00:00 2021-01-01  0200 UTC   \n",
       "2021-01-01 03:00:00+00:00 2021-01-01  0300 UTC   \n",
       "2021-01-01 04:00:00+00:00 2021-01-01  0400 UTC   \n",
       "\n",
       "                           PRECIPITAÇÃO TOTAL, HORÁRIO (mm)  \\\n",
       "Data Hora                                                     \n",
       "2021-01-01 00:00:00+00:00                               0.0   \n",
       "2021-01-01 01:00:00+00:00                               0.0   \n",
       "2021-01-01 02:00:00+00:00                               0.0   \n",
       "2021-01-01 03:00:00+00:00                               0.0   \n",
       "2021-01-01 04:00:00+00:00                               0.0   \n",
       "\n",
       "                           PRESSAO ATMOSFERICA AO NIVEL DA ESTACAO, HORARIA (mB)  \\\n",
       "Data Hora                                                                          \n",
       "2021-01-01 00:00:00+00:00                                         975.400024       \n",
       "2021-01-01 01:00:00+00:00                                         975.599976       \n",
       "2021-01-01 02:00:00+00:00                                         975.700012       \n",
       "2021-01-01 03:00:00+00:00                                         975.099976       \n",
       "2021-01-01 04:00:00+00:00                                         975.000000       \n",
       "\n",
       "                           PRESSÃO ATMOSFERICA MAX.NA HORA ANT. (AUT) (mB)  \\\n",
       "Data Hora                                                                    \n",
       "2021-01-01 00:00:00+00:00                                       975.400024   \n",
       "2021-01-01 01:00:00+00:00                                       975.599976   \n",
       "2021-01-01 02:00:00+00:00                                       975.700012   \n",
       "2021-01-01 03:00:00+00:00                                       975.799988   \n",
       "2021-01-01 04:00:00+00:00                                       975.200012   \n",
       "\n",
       "                           PRESSÃO ATMOSFERICA MIN. NA HORA ANT. (AUT) (mB)  \\\n",
       "Data Hora                                                                     \n",
       "2021-01-01 00:00:00+00:00                                        974.599976   \n",
       "2021-01-01 01:00:00+00:00                                        975.299988   \n",
       "2021-01-01 02:00:00+00:00                                        975.500000   \n",
       "2021-01-01 03:00:00+00:00                                        975.099976   \n",
       "2021-01-01 04:00:00+00:00                                        974.900024   \n",
       "\n",
       "                           RADIACAO GLOBAL (Kj/m²)  \\\n",
       "Data Hora                                            \n",
       "2021-01-01 00:00:00+00:00                      NaN   \n",
       "2021-01-01 01:00:00+00:00                      NaN   \n",
       "2021-01-01 02:00:00+00:00                      NaN   \n",
       "2021-01-01 03:00:00+00:00                      NaN   \n",
       "2021-01-01 04:00:00+00:00                      NaN   \n",
       "\n",
       "                           TEMPERATURA DO AR - BULBO SECO, HORARIA (°C)  \\\n",
       "Data Hora                                                                 \n",
       "2021-01-01 00:00:00+00:00                                     28.700001   \n",
       "2021-01-01 01:00:00+00:00                                     26.600000   \n",
       "2021-01-01 02:00:00+00:00                                     25.799999   \n",
       "2021-01-01 03:00:00+00:00                                     24.299999   \n",
       "2021-01-01 04:00:00+00:00                                     23.799999   \n",
       "\n",
       "                           TEMPERATURA DO PONTO DE ORVALHO (°C)  \\\n",
       "Data Hora                                                         \n",
       "2021-01-01 00:00:00+00:00                             17.400000   \n",
       "2021-01-01 01:00:00+00:00                             17.799999   \n",
       "2021-01-01 02:00:00+00:00                             17.600000   \n",
       "2021-01-01 03:00:00+00:00                             18.299999   \n",
       "2021-01-01 04:00:00+00:00                             18.100000   \n",
       "\n",
       "                           TEMPERATURA MÁXIMA NA HORA ANT. (AUT) (°C)  ...  \\\n",
       "Data Hora                                                              ...   \n",
       "2021-01-01 00:00:00+00:00                                   28.900000  ...   \n",
       "2021-01-01 01:00:00+00:00                                   28.700001  ...   \n",
       "2021-01-01 02:00:00+00:00                                   27.500000  ...   \n",
       "2021-01-01 03:00:00+00:00                                   25.799999  ...   \n",
       "2021-01-01 04:00:00+00:00                                   25.299999  ...   \n",
       "\n",
       "                           VENTO, VELOCIDADE HORARIA (m/s)  REGIAO:  UF:  \\\n",
       "Data Hora                                                                  \n",
       "2021-01-01 00:00:00+00:00                              2.9       NE   PI   \n",
       "2021-01-01 01:00:00+00:00                              3.1       NE   PI   \n",
       "2021-01-01 02:00:00+00:00                              1.9       NE   PI   \n",
       "2021-01-01 03:00:00+00:00                              1.0       NE   PI   \n",
       "2021-01-01 04:00:00+00:00                              1.3       NE   PI   \n",
       "\n",
       "                                  ESTACAO:  CODIGO (WMO):  LATITUDE:  \\\n",
       "Data Hora                                                              \n",
       "2021-01-01 00:00:00+00:00  CANTO DO BURITI           A365  -8.117939   \n",
       "2021-01-01 01:00:00+00:00  CANTO DO BURITI           A365  -8.117939   \n",
       "2021-01-01 02:00:00+00:00  CANTO DO BURITI           A365  -8.117939   \n",
       "2021-01-01 03:00:00+00:00  CANTO DO BURITI           A365  -8.117939   \n",
       "2021-01-01 04:00:00+00:00  CANTO DO BURITI           A365  -8.117939   \n",
       "\n",
       "                           LONGITUDE:   ALTITUDE:  DATA DE FUNDACAO:  \\\n",
       "Data Hora                                                              \n",
       "2021-01-01 00:00:00+00:00  -42.975719  312.070007         2010-12-06   \n",
       "2021-01-01 01:00:00+00:00  -42.975719  312.070007         2010-12-06   \n",
       "2021-01-01 02:00:00+00:00  -42.975719  312.070007         2010-12-06   \n",
       "2021-01-01 03:00:00+00:00  -42.975719  312.070007         2010-12-06   \n",
       "2021-01-01 04:00:00+00:00  -42.975719  312.070007         2010-12-06   \n",
       "\n",
       "                            timestamp  \n",
       "Data Hora                              \n",
       "2021-01-01 00:00:00+00:00  1609459200  \n",
       "2021-01-01 01:00:00+00:00  1609462800  \n",
       "2021-01-01 02:00:00+00:00  1609466400  \n",
       "2021-01-01 03:00:00+00:00  1609470000  \n",
       "2021-01-01 04:00:00+00:00  1609473600  \n",
       "\n",
       "[5 rows x 28 columns]"
      ]
     },
     "execution_count": 6,
     "metadata": {},
     "output_type": "execute_result"
    }
   ],
   "source": [
    "df.head()"
   ]
  },
  {
   "cell_type": "code",
   "execution_count": 7,
   "id": "0d6b3722-7782-4c31-a0f9-85ebecb1b7de",
   "metadata": {},
   "outputs": [
    {
     "data": {
      "text/plain": [
       "Text(0, 0.5, 'PRECIPITAÇÃO TOTAL, HORÁRIO (mm)')"
      ]
     },
     "execution_count": 7,
     "metadata": {},
     "output_type": "execute_result"
    },
    {
     "data": {
      "image/png": "[encoded data removed]",
      "text/plain": [
       "<Figure size 720x432 with 1 Axes>"
      ]
     },
     "metadata": {
      "needs_background": "light"
     },
     "output_type": "display_data"
    }
   ],
   "source": [
    "df['PRECIPITAÇÃO TOTAL, HORÁRIO (mm)'].plot(figsize=(10,6),title='PRECIPITAÇÃO TOTAL, HORÁRIO (mm)')\n",
    "plt.ylabel('PRECIPITAÇÃO TOTAL, HORÁRIO (mm)')"
   ]
  },
  {
   "cell_type": "markdown",
   "id": "bc2849f6-fa7c-49a3-a51f-79219e4e666a",
   "metadata": {},
   "source": [
    "## Aprendizado de máquina"
   ]
  },
  {
   "cell_type": "code",
   "execution_count": 8,
   "id": "0d98b3e8-5067-4ce4-8089-bfa7cd6264ce",
   "metadata": {},
   "outputs": [
    {
     "data": {
      "text/plain": [
       "Index(['Data', 'Hora UTC', 'PRECIPITAÇÃO TOTAL, HORÁRIO (mm)',\n",
       "       'PRESSAO ATMOSFERICA AO NIVEL DA ESTACAO, HORARIA (mB)',\n",
       "       'PRESSÃO ATMOSFERICA MAX.NA HORA ANT. (AUT) (mB)',\n",
       "       'PRESSÃO ATMOSFERICA MIN. NA HORA ANT. (AUT) (mB)',\n",
       "       'RADIACAO GLOBAL (Kj/m²)',\n",
       "       'TEMPERATURA DO AR - BULBO SECO, HORARIA (°C)',\n",
       "       'TEMPERATURA DO PONTO DE ORVALHO (°C)',\n",
       "       'TEMPERATURA MÁXIMA NA HORA ANT. (AUT) (°C)',\n",
       "       'TEMPERATURA MÍNIMA NA HORA ANT. (AUT) (°C)',\n",
       "       'TEMPERATURA ORVALHO MAX. NA HORA ANT. (AUT) (°C)',\n",
       "       'TEMPERATURA ORVALHO MIN. NA HORA ANT. (AUT) (°C)',\n",
       "       'UMIDADE REL. MAX. NA HORA ANT. (AUT) (%)',\n",
       "       'UMIDADE REL. MIN. NA HORA ANT. (AUT) (%)',\n",
       "       'UMIDADE RELATIVA DO AR, HORARIA (%)',\n",
       "       'VENTO, DIREÇÃO HORARIA (gr) (° (gr))', 'VENTO, RAJADA MAXIMA (m/s)',\n",
       "       'VENTO, VELOCIDADE HORARIA (m/s)', 'REGIAO:', 'UF:', 'ESTACAO:',\n",
       "       'CODIGO (WMO):', 'LATITUDE:', 'LONGITUDE:', 'ALTITUDE:',\n",
       "       'DATA DE FUNDACAO:', 'timestamp'],\n",
       "      dtype='object')"
      ]
     },
     "execution_count": 8,
     "metadata": {},
     "output_type": "execute_result"
    }
   ],
   "source": [
    "df.columns"
   ]
  },
  {
   "cell_type": "code",
   "execution_count": 9,
   "id": "6b7ecd32-f206-43f5-a582-90e690426ba1",
   "metadata": {},
   "outputs": [
    {
     "data": {
      "text/plain": [
       "PRECIPITAÇÃO TOTAL, HORÁRIO (mm)                         5088\n",
       "PRESSAO ATMOSFERICA AO NIVEL DA ESTACAO, HORARIA (mB)    4506\n",
       "PRESSÃO ATMOSFERICA MAX.NA HORA ANT. (AUT) (mB)          4506\n",
       "PRESSÃO ATMOSFERICA MIN. NA HORA ANT. (AUT) (mB)         4506\n",
       "RADIACAO GLOBAL (Kj/m²)                                  7908\n",
       "TEMPERATURA DO AR - BULBO SECO, HORARIA (°C)             4505\n",
       "TEMPERATURA DO PONTO DE ORVALHO (°C)                     4527\n",
       "TEMPERATURA MÁXIMA NA HORA ANT. (AUT) (°C)               4505\n",
       "TEMPERATURA MÍNIMA NA HORA ANT. (AUT) (°C)               4505\n",
       "TEMPERATURA ORVALHO MAX. NA HORA ANT. (AUT) (°C)         4527\n",
       "TEMPERATURA ORVALHO MIN. NA HORA ANT. (AUT) (°C)         4527\n",
       "UMIDADE REL. MAX. NA HORA ANT. (AUT) (%)                 4527\n",
       "UMIDADE REL. MIN. NA HORA ANT. (AUT) (%)                 4527\n",
       "UMIDADE RELATIVA DO AR, HORARIA (%)                      4526\n",
       "VENTO, DIREÇÃO HORARIA (gr) (° (gr))                     4506\n",
       "VENTO, RAJADA MAXIMA (m/s)                               4506\n",
       "VENTO, VELOCIDADE HORARIA (m/s)                          4506\n",
       "timestamp                                                   0\n",
       "hora                                                        0\n",
       "mes                                                         0\n",
       "ano                                                         0\n",
       "dia                                                         0\n",
       "semana                                                      0\n",
       "choveu                                                      0\n",
       "dtype: int64"
      ]
     },
     "execution_count": 9,
     "metadata": {},
     "output_type": "execute_result"
    }
   ],
   "source": [
    "# Remove and add columns\n",
    "def preprocessing_begin(df):\n",
    "    df_data = df.copy()\n",
    "    \n",
    "    df_data['hora']= df_data['Hora UTC'].apply(lambda s: np.float32(s.split(' ')[0])/100)\n",
    "    df_data['mes']= df_data.Data.apply(lambda d: d.month)\n",
    "    df_data['ano']= df_data.Data.apply(lambda d: d.year)\n",
    "    df_data['dia']= df_data.Data.apply(lambda d: d.day)\n",
    "    df_data['semana']= df_data.Data.apply(lambda d: d.week)\n",
    "    df_data['choveu']= df_data['PRECIPITAÇÃO TOTAL, HORÁRIO (mm)'].apply(lambda p: 1 if p > 0 else 0)\n",
    "    \n",
    "    df_data.drop(['Data', 'Hora UTC', 'REGIAO:', 'UF:', 'ESTACAO:',\n",
    "       'CODIGO (WMO):', 'LATITUDE:', 'LONGITUDE:', 'ALTITUDE:',\n",
    "       'DATA DE FUNDACAO:'], axis=1, inplace=True)\n",
    "    \n",
    "    return df_data\n",
    "    \n",
    "df_learn = preprocessing_begin(df)\n",
    "df_learn.isnull().sum()"
   ]
  },
  {
   "cell_type": "code",
   "execution_count": 10,
   "id": "e9ec1144-3a89-44ca-8ad0-3bf09ee19856",
   "metadata": {},
   "outputs": [],
   "source": [
    "from sklearn.model_selection import train_test_split\n",
    "from sklearn.utils import resample\n",
    "\n",
    "df_learn_c = df_learn.fillna(-99999) # clean_dataset(df_learn)\n",
    "X = df_learn_c.loc[:, 'PRESSAO ATMOSFERICA AO NIVEL DA ESTACAO, HORARIA (mB)':'semana']\n",
    "y = df_learn_c.loc[:, 'PRECIPITAÇÃO TOTAL, HORÁRIO (mm)']\n",
    "y_class = df_learn.loc[:, 'choveu']\n",
    "\n",
    "X_oversampled, y_oversampled = resample(X[y_class == 1],\n",
    "                                        y[y_class == 1],\n",
    "                                        replace=True,\n",
    "                                        n_samples=X[y_class == 0].shape[0],\n",
    "                                        random_state=cfg.random_state)\n",
    "\n",
    "_, y_oversampled_class = resample(X[y_class == 1],\n",
    "                                        y_class[y_class == 1],\n",
    "                                        replace=True,\n",
    "                                        n_samples=X[y_class == 0].shape[0],\n",
    "                                        random_state=cfg.random_state)\n",
    "\n",
    "\n",
    "X_balanced = np.vstack((X[y == 0], X_oversampled))\n",
    "y_balanced = np.hstack((y[y == 0], y_oversampled))\n",
    "y_balanced_class = np.hstack((y_class[y == 0], y_oversampled_class))\n",
    "\n",
    "X_train, X_test, y_train, y_test = train_test_split(X_balanced, y_balanced, stratify=y_balanced_class, test_size=0.25,  random_state=cfg.random_state)\n",
    "X_train_class, X_test_class, y_train_class, y_test_class = train_test_split(X_balanced, y_balanced_class, stratify=y_balanced_class, test_size=0.25,  random_state=cfg.random_state)"
   ]
  },
  {
   "cell_type": "markdown",
   "id": "d191a5f1-e1a0-4307-86c6-0e6fda6bfdd2",
   "metadata": {},
   "source": [
    "## Regressão"
   ]
  },
  {
   "cell_type": "code",
   "execution_count": 11,
   "id": "d02a945c-92d7-4241-98d6-30067be842c9",
   "metadata": {},
   "outputs": [],
   "source": [
    "from sklearn.pipeline import Pipeline\n",
    "\n",
    "from sklearn.impute import SimpleImputer, KNNImputer\n",
    "from sklearn.preprocessing import StandardScaler, MinMaxScaler\n",
    "from sklearn.feature_selection import SelectKBest, chi2\n",
    "from sklearn.linear_model import LinearRegression\n",
    "from sklearn import svm\n",
    "\n",
    "pipe = Pipeline([\n",
    "    \n",
    "    # ('imputer', SimpleImputer(missing_values=-10000, strategy='mean')),\n",
    "    ('imputer', KNNImputer(missing_values=-99999, n_neighbors=10, weights=\"uniform\")),\n",
    "    \n",
    "    # ('scaler', StandardScaler()), \n",
    "    ('scaler', MinMaxScaler()), \n",
    "    \n",
    "    # ('select', SelectKBest(chi2, k=3)),\n",
    "    \n",
    "    # ('regression', LinearRegression())\n",
    "    ('regression', svm.SVR())\n",
    "])"
   ]
  },
  {
   "cell_type": "code",
   "execution_count": 12,
   "id": "72907e14-8894-4a5b-9af0-f42eb87dcd66",
   "metadata": {},
   "outputs": [
    {
     "data": {
      "text/plain": [
       "Pipeline(steps=[('imputer', KNNImputer(missing_values=-99999, n_neighbors=10)),\n",
       "                ('scaler', MinMaxScaler()), ('regression', SVR())])"
      ]
     },
     "execution_count": 12,
     "metadata": {},
     "output_type": "execute_result"
    }
   ],
   "source": [
    "pipe.fit(X_train, y_train)"
   ]
  },
  {
   "cell_type": "code",
   "execution_count": 13,
   "id": "bbf3e060-e7a0-4105-ad09-f5a02a21bd18",
   "metadata": {},
   "outputs": [
    {
     "data": {
      "text/plain": [
       "0.82806794300612"
      ]
     },
     "execution_count": 13,
     "metadata": {},
     "output_type": "execute_result"
    }
   ],
   "source": [
    "from sklearn.metrics import mean_absolute_error\n",
    "\n",
    "y_pred = pipe.predict(X_test)\n",
    "mean_absolute_error(y_test, y_pred)"
   ]
  },
  {
   "cell_type": "markdown",
   "id": "52f077c0-92b8-4c24-b68c-46d3f57bf8b0",
   "metadata": {},
   "source": [
    "## Classificação"
   ]
  },
  {
   "cell_type": "code",
   "execution_count": 14,
   "id": "cdf78f21-9dc7-4560-b9c4-ccc01b1da9f7",
   "metadata": {},
   "outputs": [],
   "source": [
    "from sklearn.linear_model import LogisticRegression\n",
    "from sklearn import svm\n",
    "\n",
    "pipe = Pipeline([\n",
    "    \n",
    "    # ('imputer', SimpleImputer(missing_values=-10000, strategy='mean')),\n",
    "    ('imputer', KNNImputer(missing_values=-99999, n_neighbors=10, weights=\"uniform\")),\n",
    "    \n",
    "    # ('scaler', StandardScaler()), \n",
    "    ('scaler', MinMaxScaler()), \n",
    "    \n",
    "    ('select', SelectKBest(chi2, k=5)),\n",
    "    \n",
    "    # ('regression', LinearRegression())\n",
    "    ('classification', LogisticRegression())\n",
    "])"
   ]
  },
  {
   "cell_type": "code",
   "execution_count": 15,
   "id": "09517b3b-7358-4489-b284-d6bea3d9df70",
   "metadata": {},
   "outputs": [
    {
     "data": {
      "text/plain": [
       "Pipeline(steps=[('imputer', KNNImputer(missing_values=-99999, n_neighbors=10)),\n",
       "                ('scaler', MinMaxScaler()),\n",
       "                ('select',\n",
       "                 SelectKBest(k=5,\n",
       "                             score_func=<function chi2 at 0x7f457eb0bd30>)),\n",
       "                ('classification', LogisticRegression())])"
      ]
     },
     "execution_count": 15,
     "metadata": {},
     "output_type": "execute_result"
    }
   ],
   "source": [
    "pipe.fit(X_train_class, y_train_class)"
   ]
  },
  {
   "cell_type": "code",
   "execution_count": 16,
   "id": "f37009c3-5283-45fa-bf72-59ec5313b983",
   "metadata": {},
   "outputs": [],
   "source": [
    "y_pred_class = pipe.predict(X_test_class)"
   ]
  },
  {
   "cell_type": "code",
   "execution_count": 17,
   "id": "f80b27ba-62c0-4ecc-9351-b9165da72519",
   "metadata": {},
   "outputs": [
    {
     "name": "stdout",
     "output_type": "stream",
     "text": [
      "Accuracy 0.8462917320188215\n"
     ]
    },
    {
     "data": {
      "text/plain": [
       "<sklearn.metrics._plot.confusion_matrix.ConfusionMatrixDisplay at 0x7f458b652a30>"
      ]
     },
     "execution_count": 17,
     "metadata": {},
     "output_type": "execute_result"
    },
    {
     "data": {
      "image/png": "[encoded data removed]",
      "text/plain": [
       "<Figure size 432x288 with 2 Axes>"
      ]
     },
     "metadata": {
      "needs_background": "light"
     },
     "output_type": "display_data"
    }
   ],
   "source": [
    "from sklearn.metrics import accuracy_score\n",
    "from sklearn.metrics import confusion_matrix\n",
    "from sklearn.metrics import plot_confusion_matrix\n",
    "print (\"Accuracy\", accuracy_score(y_test_class, y_pred_class))\n",
    "plot_confusion_matrix(pipe, X_test_class, y_test_class)  \n",
    "# confusion_matrix(y_test, y_pred)"
   ]
  },
  {
   "cell_type": "code",
   "execution_count": 18,
   "id": "5aadfc6a-a829-4f2b-b0cf-5e1361ce0efc",
   "metadata": {},
   "outputs": [
    {
     "data": {
      "text/plain": [
       "<sklearn.metrics._plot.confusion_matrix.ConfusionMatrixDisplay at 0x7f457e7e5460>"
      ]
     },
     "execution_count": 18,
     "metadata": {},
     "output_type": "execute_result"
    },
    {
     "data": {
      "image/png": "[encoded data removed]",
      "text/plain": [
       "<Figure size 432x288 with 2 Axes>"
      ]
     },
     "metadata": {
      "needs_background": "light"
     },
     "output_type": "display_data"
    }
   ],
   "source": [
    "df_test = df_learn[df_learn['choveu']==1].fillna(-99999)\n",
    "# df_test[:, 'PRESSAO ATMOSFERICA AO NIVEL DA ESTACAO, HORARIA (mB)':'semana']\n",
    "X_df_test= df_test.loc[:, 'PRESSAO ATMOSFERICA AO NIVEL DA ESTACAO, HORARIA (mB)':'semana']\n",
    "plot_confusion_matrix(pipe, X_df_test, df_test['choveu'])  "
   ]
  },
  {
   "cell_type": "code",
   "execution_count": null,
   "id": "76de8da7-1cd0-4838-bf9b-38a5309c0890",
   "metadata": {},
   "outputs": [],
   "source": []
  },
  {
   "cell_type": "code",
   "execution_count": null,
   "id": "4a511629-8940-45f9-bd15-7938f262124c",
   "metadata": {},
   "outputs": [],
   "source": []
  }
 ],
 "metadata": {
  "kernelspec": {
   "display_name": "Python 3 (ipykernel)",
   "language": "python",
   "name": "python3"
  },
  "language_info": {
   "codemirror_mode": {
    "name": "ipython",
    "version": 3
   },
   "file_extension": ".py",
   "mimetype": "text/x-python",
   "name": "python",
   "nbconvert_exporter": "python",
   "pygments_lexer": "ipython3",
   "version": "3.9.6"
  }
 },
 "nbformat": 4,
 "nbformat_minor": 5
}
